{
 "cells": [
  {
   "cell_type": "code",
   "execution_count": 1,
   "metadata": {},
   "outputs": [],
   "source": [
    "#Automção de tarefas\n",
    "## Problema a ser resolvido\n",
    "### buscar automaticamente os dados das ações no site do yahoo!\n",
    "### analisar os dados das ações de acordo com a solicitação do gestor\n",
    "### enviar um e-mail com todas as análises de forma automática"
   ]
  },
  {
   "cell_type": "code",
   "execution_count": 2,
   "metadata": {},
   "outputs": [
    {
     "name": "stderr",
     "output_type": "stream",
     "text": [
      ".SA: No data found, symbol may be delisted\n"
     ]
    },
    {
     "data": {
      "text/plain": [
       "<Axes: xlabel='Date'>"
      ]
     },
     "execution_count": 2,
     "metadata": {},
     "output_type": "execute_result"
    },
    {
     "data": {
      "image/png": "[encoded data removed]",
      "text/plain": [
       "<Figure size 640x480 with 1 Axes>"
      ]
     },
     "metadata": {},
     "output_type": "display_data"
    }
   ],
   "source": [
    "## buscar automaticamente os dados das ações no site do yahoo!\n",
    "# !pip install yfinance\n",
    "# !pip install matplotlib\n",
    "import yfinance\n",
    "code = input('Digite o código da ação desejada: ')\n",
    "\n",
    "dados = yfinance.Ticker(code + \".SA\").history(\"6mo\")\n",
    "\n",
    "close = dados.Close\n",
    "close.plot()\n"
   ]
  },
  {
   "cell_type": "code",
   "execution_count": 3,
   "metadata": {},
   "outputs": [
    {
     "ename": "IndexError",
     "evalue": "single positional indexer is out-of-bounds",
     "output_type": "error",
     "traceback": [
      "\u001b[1;31m---------------------------------------------------------------------------\u001b[0m",
      "\u001b[1;31mIndexError\u001b[0m                                Traceback (most recent call last)",
      "Cell \u001b[1;32mIn[3], line 9\u001b[0m\n\u001b[0;32m      7\u001b[0m \u001b[38;5;28mmax\u001b[39m \u001b[38;5;241m=\u001b[39m close\u001b[38;5;241m.\u001b[39mmax()\n\u001b[0;32m      8\u001b[0m \u001b[38;5;28mmin\u001b[39m \u001b[38;5;241m=\u001b[39m close\u001b[38;5;241m.\u001b[39mmin()\n\u001b[1;32m----> 9\u001b[0m now \u001b[38;5;241m=\u001b[39m \u001b[43mdados\u001b[49m\u001b[43m[\u001b[49m\u001b[38;5;124;43m'\u001b[39;49m\u001b[38;5;124;43mClose\u001b[39;49m\u001b[38;5;124;43m'\u001b[39;49m\u001b[43m]\u001b[49m\u001b[38;5;241;43m.\u001b[39;49m\u001b[43miloc\u001b[49m\u001b[43m[\u001b[49m\u001b[38;5;241;43m-\u001b[39;49m\u001b[38;5;241;43m1\u001b[39;49m\u001b[43m]\u001b[49m\n\u001b[0;32m     11\u001b[0m \u001b[38;5;28mprint\u001b[39m(\u001b[38;5;28mmax\u001b[39m)\n\u001b[0;32m     12\u001b[0m \u001b[38;5;28mprint\u001b[39m(\u001b[38;5;28mmin\u001b[39m)\n",
      "File \u001b[1;32mc:\\Users\\ICCF\\AppData\\Local\\Programs\\Python\\Python312\\Lib\\site-packages\\pandas\\core\\indexing.py:1191\u001b[0m, in \u001b[0;36m_LocationIndexer.__getitem__\u001b[1;34m(self, key)\u001b[0m\n\u001b[0;32m   1189\u001b[0m maybe_callable \u001b[38;5;241m=\u001b[39m com\u001b[38;5;241m.\u001b[39mapply_if_callable(key, \u001b[38;5;28mself\u001b[39m\u001b[38;5;241m.\u001b[39mobj)\n\u001b[0;32m   1190\u001b[0m maybe_callable \u001b[38;5;241m=\u001b[39m \u001b[38;5;28mself\u001b[39m\u001b[38;5;241m.\u001b[39m_check_deprecated_callable_usage(key, maybe_callable)\n\u001b[1;32m-> 1191\u001b[0m \u001b[38;5;28;01mreturn\u001b[39;00m \u001b[38;5;28;43mself\u001b[39;49m\u001b[38;5;241;43m.\u001b[39;49m\u001b[43m_getitem_axis\u001b[49m\u001b[43m(\u001b[49m\u001b[43mmaybe_callable\u001b[49m\u001b[43m,\u001b[49m\u001b[43m \u001b[49m\u001b[43maxis\u001b[49m\u001b[38;5;241;43m=\u001b[39;49m\u001b[43maxis\u001b[49m\u001b[43m)\u001b[49m\n",
      "File \u001b[1;32mc:\\Users\\ICCF\\AppData\\Local\\Programs\\Python\\Python312\\Lib\\site-packages\\pandas\\core\\indexing.py:1752\u001b[0m, in \u001b[0;36m_iLocIndexer._getitem_axis\u001b[1;34m(self, key, axis)\u001b[0m\n\u001b[0;32m   1749\u001b[0m     \u001b[38;5;28;01mraise\u001b[39;00m \u001b[38;5;167;01mTypeError\u001b[39;00m(\u001b[38;5;124m\"\u001b[39m\u001b[38;5;124mCannot index by location index with a non-integer key\u001b[39m\u001b[38;5;124m\"\u001b[39m)\n\u001b[0;32m   1751\u001b[0m \u001b[38;5;66;03m# validate the location\u001b[39;00m\n\u001b[1;32m-> 1752\u001b[0m \u001b[38;5;28;43mself\u001b[39;49m\u001b[38;5;241;43m.\u001b[39;49m\u001b[43m_validate_integer\u001b[49m\u001b[43m(\u001b[49m\u001b[43mkey\u001b[49m\u001b[43m,\u001b[49m\u001b[43m \u001b[49m\u001b[43maxis\u001b[49m\u001b[43m)\u001b[49m\n\u001b[0;32m   1754\u001b[0m \u001b[38;5;28;01mreturn\u001b[39;00m \u001b[38;5;28mself\u001b[39m\u001b[38;5;241m.\u001b[39mobj\u001b[38;5;241m.\u001b[39m_ixs(key, axis\u001b[38;5;241m=\u001b[39maxis)\n",
      "File \u001b[1;32mc:\\Users\\ICCF\\AppData\\Local\\Programs\\Python\\Python312\\Lib\\site-packages\\pandas\\core\\indexing.py:1685\u001b[0m, in \u001b[0;36m_iLocIndexer._validate_integer\u001b[1;34m(self, key, axis)\u001b[0m\n\u001b[0;32m   1683\u001b[0m len_axis \u001b[38;5;241m=\u001b[39m \u001b[38;5;28mlen\u001b[39m(\u001b[38;5;28mself\u001b[39m\u001b[38;5;241m.\u001b[39mobj\u001b[38;5;241m.\u001b[39m_get_axis(axis))\n\u001b[0;32m   1684\u001b[0m \u001b[38;5;28;01mif\u001b[39;00m key \u001b[38;5;241m>\u001b[39m\u001b[38;5;241m=\u001b[39m len_axis \u001b[38;5;129;01mor\u001b[39;00m key \u001b[38;5;241m<\u001b[39m \u001b[38;5;241m-\u001b[39mlen_axis:\n\u001b[1;32m-> 1685\u001b[0m     \u001b[38;5;28;01mraise\u001b[39;00m \u001b[38;5;167;01mIndexError\u001b[39;00m(\u001b[38;5;124m\"\u001b[39m\u001b[38;5;124msingle positional indexer is out-of-bounds\u001b[39m\u001b[38;5;124m\"\u001b[39m)\n",
      "\u001b[1;31mIndexError\u001b[0m: single positional indexer is out-of-bounds"
     ]
    }
   ],
   "source": [
    "# Análises\n",
    "## Analise dos ultimos 6 meses\n",
    "## Cotação máxima\n",
    "## Cotação minima\n",
    "## Cotação atual\n",
    "\n",
    "max = close.max()\n",
    "min = close.min()\n",
    "now = dados['Close'].iloc[-1]\n",
    "\n",
    "print(max)\n",
    "print(min)\n",
    "print(now)"
   ]
  },
  {
   "cell_type": "code",
   "execution_count": null,
   "metadata": {},
   "outputs": [
    {
     "name": "stdout",
     "output_type": "stream",
     "text": [
      "\n",
      "    Prezado Gestor,\n",
      "    \n",
      "    seguem as análises da ação PETR4 realizadas dos ultimos 6 meses conforme solicitado:\n",
      "    \n",
      "    Cotação Máxima: R$ 42.9\n",
      "    Cotação Mínima: R$ 31.4\n",
      "    Cotação Atual: R$ 36.07\n",
      "    \n",
      "    Qualquer dúvida estou a disposição!\n",
      "    \n",
      "    Att,\n",
      "\n"
     ]
    }
   ],
   "source": [
    "#!pip install pyperclip==1.8.1\n",
    "#!pip install pyautogui\n",
    "\n",
    "import pyautogui\n",
    "import pyperclip\n",
    "import time\n",
    "\n",
    "#pyautogui.PAUSE = 0.5\n",
    "\n",
    "#pyautogui.press(\"win\")\n",
    "#pyautogui.write(\"chrome\")\n",
    "#pyautogui.press(\"enter\")\n",
    "\n",
    "#link = \"https://gmail.com\"\n",
    "#pyautogui.write(link)\n",
    "#pyautogui.press(\"enter\")\n",
    "\n",
    "#time.sleep(3)\n",
    "#pyautogui.click(x=0, y=0, clicks=1)\n",
    "\n",
    "## terminar de abrir gmail e criar o envio\n",
    "\n",
    "# Preencher mensagem\n",
    "mensagem = f\"\"\"\n",
    "    Prezado Gestor,\n",
    "    \n",
    "    seguem as análises da ação {code} realizadas dos ultimos 6 meses conforme solicitado:\n",
    "    \n",
    "    Cotação Máxima: R$ {round(max,2)}\n",
    "    Cotação Mínima: R$ {round(min,2)}\n",
    "    Cotação Atual: R$ {round(now,2)}\n",
    "    \n",
    "    Qualquer dúvida estou a disposição!\n",
    "    \n",
    "    Att,\n",
    "\"\"\"\n",
    "\n",
    "pyperclip.copy(mensagem)\n",
    "\n",
    "print(mensagem)"
   ]
  }
 ],
 "metadata": {
  "kernelspec": {
   "display_name": "Python 3",
   "language": "python",
   "name": "python3"
  },
  "language_info": {
   "codemirror_mode": {
    "name": "ipython",
    "version": 3
   },
   "file_extension": ".py",
   "mimetype": "text/x-python",
   "name": "python",
   "nbconvert_exporter": "python",
   "pygments_lexer": "ipython3",
   "version": "3.12.2"
  }
 },
 "nbformat": 4,
 "nbformat_minor": 2
}
